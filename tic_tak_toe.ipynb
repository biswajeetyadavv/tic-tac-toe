{
  "nbformat": 4,
  "nbformat_minor": 0,
  "metadata": {
    "colab": {
      "provenance": []
    },
    "kernelspec": {
      "name": "python3",
      "display_name": "Python 3"
    },
    "language_info": {
      "name": "python"
    }
  },
  "cells": [
    {
      "cell_type": "code",
      "execution_count": null,
      "metadata": {
        "colab": {
          "base_uri": "https://localhost:8080/",
          "height": 1000
        },
        "id": "6tusyRLqmMMW",
        "outputId": "e2fe1a62-a2ab-4be3-bd10-5e4fdac86920"
      },
      "outputs": [
        {
          "name": "stdout",
          "output_type": "stream",
          "text": [
            "Welcome to Tic Tac Toe\n",
            "0 | 1 | 2\n",
            "--|---|--\n",
            "3 | 4 | 5\n",
            "--|---|--\n",
            "6 | 7 | 8\n",
            "X's Chance\n",
            "Please enter a value: 3\n",
            "0 | 1 | 2\n",
            "--|---|--\n",
            "X | 4 | 5\n",
            "--|---|--\n",
            "6 | 7 | 8\n",
            "O's Chance\n",
            "Please enter a value: 4\n",
            "0 | 1 | 2\n",
            "--|---|--\n",
            "X | O | 5\n",
            "--|---|--\n",
            "6 | 7 | 8\n",
            "X's Chance\n",
            "Please enter a value: 8\n",
            "0 | 1 | 2\n",
            "--|---|--\n",
            "X | O | 5\n",
            "--|---|--\n",
            "6 | 7 | X\n",
            "O's Chance\n",
            "Please enter a value: 7\n",
            "0 | 1 | 2\n",
            "--|---|--\n",
            "X | O | 5\n",
            "--|---|--\n",
            "6 | O | X\n",
            "X's Chance\n",
            "Please enter a value: 5\n",
            "0 | 1 | 2\n",
            "--|---|--\n",
            "X | O | X\n",
            "--|---|--\n",
            "6 | O | X\n",
            "O's Chance\n",
            "Please enter a value: 6\n",
            "0 | 1 | 2\n",
            "--|---|--\n",
            "X | O | X\n",
            "--|---|--\n",
            "O | O | X\n",
            "X's Chance\n",
            "Please enter a value: 2\n",
            "0 | 1 | X\n",
            "--|---|--\n",
            "X | O | X\n",
            "--|---|--\n",
            "O | O | X\n",
            "O's Chance\n",
            "Please enter a value: 4\n",
            "0 | 1 | X\n",
            "--|---|--\n",
            "X | O | X\n",
            "--|---|--\n",
            "O | O | X\n",
            "X's Chance\n",
            "Please enter a value: \n"
          ]
        },
        {
          "output_type": "error",
          "ename": "ValueError",
          "evalue": "invalid literal for int() with base 10: ''",
          "traceback": [
            "\u001b[0;31m---------------------------------------------------------------------------\u001b[0m",
            "\u001b[0;31mValueError\u001b[0m                                Traceback (most recent call last)",
            "\u001b[0;32m/tmp/ipython-input-329363664.py\u001b[0m in \u001b[0;36m<cell line: 0>\u001b[0;34m()\u001b[0m\n\u001b[1;32m     27\u001b[0m         \u001b[0;32mif\u001b[0m \u001b[0mturn\u001b[0m \u001b[0;34m==\u001b[0m \u001b[0;36m1\u001b[0m\u001b[0;34m:\u001b[0m\u001b[0;34m\u001b[0m\u001b[0;34m\u001b[0m\u001b[0m\n\u001b[1;32m     28\u001b[0m             \u001b[0mprint\u001b[0m\u001b[0;34m(\u001b[0m\u001b[0;34m\"X's Chance\"\u001b[0m\u001b[0;34m)\u001b[0m\u001b[0;34m\u001b[0m\u001b[0;34m\u001b[0m\u001b[0m\n\u001b[0;32m---> 29\u001b[0;31m             \u001b[0mvalue\u001b[0m \u001b[0;34m=\u001b[0m \u001b[0mint\u001b[0m\u001b[0;34m(\u001b[0m\u001b[0minput\u001b[0m\u001b[0;34m(\u001b[0m\u001b[0;34m\"Please enter a value: \"\u001b[0m\u001b[0;34m)\u001b[0m\u001b[0;34m)\u001b[0m\u001b[0;34m\u001b[0m\u001b[0;34m\u001b[0m\u001b[0m\n\u001b[0m\u001b[1;32m     30\u001b[0m             \u001b[0mxState\u001b[0m\u001b[0;34m[\u001b[0m\u001b[0mvalue\u001b[0m\u001b[0;34m]\u001b[0m \u001b[0;34m=\u001b[0m \u001b[0;36m1\u001b[0m   \u001b[0;31m# ✅ Fixed here\u001b[0m\u001b[0;34m\u001b[0m\u001b[0;34m\u001b[0m\u001b[0m\n\u001b[1;32m     31\u001b[0m         \u001b[0;32melse\u001b[0m\u001b[0;34m:\u001b[0m\u001b[0;34m\u001b[0m\u001b[0;34m\u001b[0m\u001b[0m\n",
            "\u001b[0;31mValueError\u001b[0m: invalid literal for int() with base 10: ''"
          ]
        }
      ],
      "source": [
        "def printBoard(xState, zState):\n",
        "    Zero = 'X' if xState[0] else ('O' if zState[0] else 0)\n",
        "    one  = 'X' if xState[1] else ('O' if zState[1] else 1)\n",
        "    two  = 'X' if xState[2] else ('O' if zState[2] else 2)\n",
        "    three = 'X' if xState[3] else ('O' if zState[3] else 3)\n",
        "    four = 'X' if xState[4] else ('O' if zState[4] else 4)\n",
        "    five = 'X' if xState[5] else ('O' if zState[5] else 5)\n",
        "    six = 'X' if xState[6] else ('O' if zState[6] else 6)\n",
        "    seven = 'X' if xState[7] else ('O' if zState[7] else 7)\n",
        "    eight = 'X' if xState[8] else ('O' if zState[8] else 8)\n",
        "\n",
        "    print(f\"{Zero} | {one} | {two}\")\n",
        "    print(\"--|---|--\")\n",
        "    print(f\"{three} | {four} | {five}\")\n",
        "    print(\"--|---|--\")\n",
        "    print(f\"{six} | {seven} | {eight}\")\n",
        "\n",
        "def checkWin(xState, zState):\n",
        "  xwins = [[0,1,2],[3,4,5],[6,7,8],[0,3,6],[1,4,7],[2,5,8],[0,4,8],[2,4,6]]\n",
        "  for win in xwins:\n",
        "    if(sum(xState[win[0]], xState[win[1]], xState[win[2]])==3 ):\n",
        "      print(\"X wins the match\")\n",
        "      return 1\n",
        "    if(sum(zState[win[0]], zState[win[1]], zState[win[2]])==3 ):\n",
        "      print(\"O wins the match\")\n",
        "      return 0\n",
        "  return -1\n",
        "\n",
        "\n",
        "\n",
        "if __name__ == \"__main__\":\n",
        "    xState = [0,0,0,0,0,0,0,0,0]\n",
        "    zState = [0,0,0,0,0,0,0,0,0]\n",
        "    turn = 1  # 1 for X and 0 for O\n",
        "    print(\"Welcome to Tic Tac Toe\")\n",
        "\n",
        "    while True:\n",
        "        printBoard(xState, zState)\n",
        "        if turn == 1:\n",
        "            print(\"X's Chance\")\n",
        "            value = int(input(\"Please enter a value: \"))\n",
        "            xState[value] = 1   # ✅ Fixed here\n",
        "        else:\n",
        "            print(\"O's Chance\")\n",
        "            value = int(input(\"Please enter a value: \"))\n",
        "            zState[value] = 1\n",
        "        checkWin(xState, zState)\n",
        "        if(checkWin != -1):\n",
        "          break\n",
        "\n",
        "        turn = 1 - turn\n"
      ]
    },
    {
      "cell_type": "code",
      "source": [],
      "metadata": {
        "id": "FTVxrP1NmsaT"
      },
      "execution_count": null,
      "outputs": []
    }
  ]
}